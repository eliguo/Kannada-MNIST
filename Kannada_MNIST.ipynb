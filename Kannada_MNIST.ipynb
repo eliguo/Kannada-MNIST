{
  "nbformat": 4,
  "nbformat_minor": 0,
  "metadata": {
    "colab": {
      "provenance": []
    },
    "kernelspec": {
      "name": "python3",
      "display_name": "Python 3"
    },
    "language_info": {
      "name": "python"
    }
  },
  "cells": [
    {
      "cell_type": "code",
      "execution_count": 1,
      "metadata": {
        "id": "URT79lWdfz2g"
      },
      "outputs": [],
      "source": [
        "import requests\n",
        "from IPython.core.display import HTML"
      ]
    },
    {
      "cell_type": "code",
      "source": [
        "import random\n",
        "random.seed(112358)\n",
        "\n",
        "import os\n",
        "import sys\n",
        "\n",
        "import matplotlib.pyplot as plt\n",
        "import numpy as np\n",
        "import pandas as pd\n",
        "import seaborn as sns\n",
        "\n",
        "from sklearn.inspection import permutation_importance\n",
        "from sklearn.linear_model import LogisticRegression\n",
        "from sklearn.metrics import roc_auc_score, accuracy_score\n",
        "from sklearn.model_selection import train_test_split\n",
        "from sklearn.preprocessing import StandardScaler\n",
        "from sklearn.utils import resample\n",
        "\n",
        "# TensorFlow and tf.keras\n",
        "import tensorflow as tf\n",
        "\n",
        "%matplotlib inline"
      ],
      "metadata": {
        "id": "0mGeoeeagb9r"
      },
      "execution_count": 2,
      "outputs": []
    },
    {
      "cell_type": "code",
      "source": [
        "TITLE_FONTSIZE  = 14\n",
        "AXIS_LABEL_SIZE = 12"
      ],
      "metadata": {
        "id": "gMGuWA11ruzE"
      },
      "execution_count": 3,
      "outputs": []
    },
    {
      "cell_type": "markdown",
      "source": [
        "<a id=\"contents\"></a>\n",
        "\n",
        "## Notebook Contents\n",
        "\n",
        "  - [Problem Statement](#intro)\n",
        "  - [The Kannada MNIST Dataset](#about)\n",
        "  - [Downloading the Data Files](#data)\n",
        "  - [Questions](#questions)\n",
        "  - [Solutions](#solutions)"
      ],
      "metadata": {
        "id": "PPw_3eB9hB5v"
      }
    },
    {
      "cell_type": "markdown",
      "source": [
        "<div class=\"alert alert-block alert-danger\" style=\"color:black;background-color:#E7F4FA\">\n",
        "\n",
        "<a id=\"intro\"></a>\n",
        "<h2> Problem Statement </h2>\n",
        "\n",
        "[Return to contents](#contents)\n",
        "<br /><br />\n",
        "\n",
        "ANNs can be prone to overfitting, where they learn specific patterns present in the training data, but the patterns do not generalize to new data.\n",
        "<br /><br />\n",
        "There are several methods used to improve ANN generalization. \n",
        "<br /><br />\n",
        "One approach is to use an architecture just barely wide or deep enough to fit the data. The idea here is that smaller networks are less expressive and thus less able to overfit the data.\n",
        "<br /><br />\n",
        "However, it is difficult to know a priori the correct size of the ANN, and it is computationally costly to hunt for the correct size. Given this, other methodologies are used to prevent overfitting and improve ANNs' generalizability. These methodologies, like other techniques that combat overfitting, fall under the umbrella term of \"regularization\".\n",
        "<br /><br />\n",
        "In this problem, you are asked to regularize a network of a given architecture.\n",
        "\n",
        "<a id=\"about\"></a>\n",
        "<br /><br />\n",
        "<h3> The Kannada MNIST Dataset </h3>\n",
        "\n",
        "[Return to contents](#contents)\n",
        "<br /><br />\n",
        "\n",
        "![](https://www.googleapis.com/download/storage/v1/b/kaggle-user-content/o/inbox%2F3630446%2F1e01bcc28b5ccb7ad38a4ffefb13cde0%2Fwondu.png?generation=1603204077179447&alt=media)\n",
        "\n",
        "<br /><br />\n",
        "For this problem, we will be working with a modified version of [Kannada MNIST dataset](https://arxiv.org/pdf/1908.01242.pdf) , which is a large database of handwritten digits in the indigenous language *Kannada*.\n",
        "<br /><br />\n",
        "This dataset consists of 60,000 28x28 grayscale images of the ten digits, along with a test set of 10,000 images. \n",
        "<br /><br />\n",
        "We will simplify the problem by only use the digits labeled `0` and `1` owing to the similarity of the two symbols, and we want to use a total of 1200 samples for training (this includes the data you will use for validation).\n",
        "<br /><br />\n",
        "To understand the dataset better, we recommend this [article](https://towardsdatascience.com/a-new-handwritten-digits-dataset-in-ml-town-kannada-mnist-69df0f2d1456) by Vinay Prabhu, the curator of the dataset.\n",
        "<br /><br />\n",
        "<a id=\"data\"></a>\n",
        "\n",
        "<h4> Downloading the Data Files </h4>\n",
        "\n",
        "[Return to contents](#contents)\n",
        "<br />\n",
        "Here's a brief description of the data files:\n",
        "<br /><br />\n",
        "- `kmnist_train.csv` is our training dataset and the last column contains our response class. The 784 other columns correspond to the pixel values of the 28x28 dimension image.\n",
        "<br /><br />\n",
        "Class 0 means a sample is the handwritten digit `0` and class 1 means a sample is the handwritten digit `1` in the Kannada language.  \n",
        "<br />\n",
        "- `kmnist_test.csv` has a structure similar to `kmnist_train.csv` but you will use this only for testing.\n",
        "    \n",
        "</div>    "
      ],
      "metadata": {
        "id": "pbQNDjPshq9q"
      }
    },
    {
      "cell_type": "markdown",
      "source": [
        "<div class=\"alert alert-block alert-danger\" style=\"color:black;background-color:#E7F4FA\">\n",
        "\n",
        "<a id=\"questions\"></a>\n",
        "\n",
        "<h2>Questions</h2>\n",
        "\n",
        "[Return to contents](#contents)\n",
        "\n",
        "<br /><br />\n",
        "**1.** **Get the data:**\n",
        "\n",
        "- Download data.\n",
        "- We will utilize `kmnist_test.csv` in question 3.4 only. \n",
        "- Load the data and use the matplotlib function `imshow` to display a handwritten 0 and a handwritten 1.\n",
        "<br /><br />\n",
        "    \n",
        "**2.** **Overfit an ANN:** \n",
        "\n",
        "Build a fully-connected network (FCN) with the architecture given below using `tensorflow.keras` and assign it to a variable called `model_overfit`:\n",
        "\n",
        "- Number of hidden layers: 3\n",
        "- Nodes per hidden layer: 100, 100, 100\n",
        "- Activation function: ReLU \n",
        "- Loss function: binary_crossentropy\n",
        "- Output unit: Sigmoid \n",
        "- Optimizer: adam (use the defaults; no other tuning)\n",
        "- Epochs: no more than 2,000\n",
        "- Batch size: 128\n",
        "- Validation size: 0.3\n",
        "\n",
        "![](https://www.googleapis.com/download/storage/v1/b/kaggle-user-content/o/inbox%2F3630446%2F6a491ff8d4ff590dc8ded9a25461cd4b%2FScreenshot%202020-10-20%20at%209.42.36%20PM.png?generation=1603210420701577&alt=media) \n",
        "    \n",
        "This ANN, when trained on the dataset, will overfit to the training set. Plot the training accuracy and validation accuracy (the x-axis should represent the number of epochs, and the y-axis should represent the accuracy). Explain how you can tell the model is overfitting. \n",
        "\n",
        "<a id=\"part2_3\"></a>\n",
        "<br /><br />\n",
        "\n",
        "**3.** **Regularize overfit network:**\n",
        "\n",
        "Create an ANN that doesn't overfit and report your accuracy on the test set.\n",
        "<br /><br />\n",
        "**DON'TS**\n",
        "\n",
        "**Don't change the architecture**. In other words, keep the number of layers, number of nodes, activation function,  loss function and output unit the same. **No CNNs/RNNs/enhancements.**\n",
        "\n",
        "<br />\n",
        "    \n",
        "**NOTE**: We strongly discourage you to use a different training set than the one provided to you but data augmentation is allowed. \n",
        "\n",
        "<br /><br />\n",
        "    \n",
        "**DOS**\n",
        "\n",
        "You can change the number of epochs (max 2000), batch size, optimizer, and of course, add elements that can help to regularize (e.g., dropout, L2 norm, etc.). You can also do data augmentation. \n",
        "<br /><br />\n",
        "\n",
        "- **3.1** Display your model summary and your training and validation accuracy and loss.\n",
        "\n",
        "<br />\n",
        "    \n",
        "- **3.2** Print the difference between the training and validation accuracies and the difference between the training and validation losses for the final trained epoch used by your model.\n",
        "\n",
        "<br />\n",
        "    \n",
        "- **3.3** Plot the training accuracy and validation accuracy as a function of epochs.\n",
        "<br />\n",
        "\n",
        "- **3.4** Once your model is trained, evaluate your model on the test dataset and provide the test accuracy.\n",
        "\n",
        "\n",
        "<br /><br />\n",
        "\n",
        "</div>"
      ],
      "metadata": {
        "id": "8iC5QiWlluTj"
      }
    },
    {
      "cell_type": "markdown",
      "source": [
        "<a id=\"solutions\"></a>\n",
        "\n",
        "## Solutions\n",
        "\n",
        "[Return to contents](#contents)"
      ],
      "metadata": {
        "id": "5rR9rtFLpBKe"
      }
    },
    {
      "cell_type": "markdown",
      "source": [
        "<div class='exercise-r'>\n",
        "\n",
        "**1.** \n",
        "    \n",
        "</div>"
      ],
      "metadata": {
        "id": "ZEDbXBuhpzbA"
      }
    },
    {
      "cell_type": "code",
      "source": [
        "# load the data\n",
        "df_train = pd.read_csv('kmnist_train.csv')\n",
        "\n",
        "fig, ax = plt.subplots(1,2)\n",
        "# use the matplotlib function imshow to display a handwritten 0\n",
        "ax[0].imshow(df_train.iloc[200].values[0:-1].reshape((28,28)), cmap='gray')\n",
        "ax[0].set_title(f'label {int(df_train.iloc[200].values[-1])}')\n",
        "\n",
        "# use the matplotlib function imshow to display a handwritten 1\n",
        "ax[1].imshow(df_train.iloc[300].values[0:-1].reshape((28,28)), cmap='gray')\n",
        "ax[1].set_title(f'label {int(df_train.iloc[300].values[-1])}')\n",
        "\n",
        "fig.show()\n"
      ],
      "metadata": {
        "colab": {
          "base_uri": "https://localhost:8080/",
          "height": 308
        },
        "id": "kLajXAhKp2dJ",
        "outputId": "84f4acc0-2755-46a7-d83a-26451767c571"
      },
      "execution_count": 4,
      "outputs": [
        {
          "output_type": "display_data",
          "data": {
            "text/plain": [
              "<Figure size 640x480 with 2 Axes>"
            ],
            "image/png": "[encoded data removed]"
          },
          "metadata": {}
        }
      ]
    },
    {
      "cell_type": "markdown",
      "source": [
        "<div class='exercise-r'>\n",
        "\n",
        "**2.**\n",
        "    \n",
        "</div>"
      ],
      "metadata": {
        "id": "remFkYy0p7nY"
      }
    },
    {
      "cell_type": "code",
      "source": [
        "# get training data\n",
        "X_train = df_train.drop(columns=['output'],axis=1)\n",
        "y_train = df_train[['output']]\n",
        "\n",
        "# build a fully-connected network (FCN)\n",
        "model_overfit = tf.keras.Sequential()\n",
        "model_overfit.add(tf.keras.layers.Dense(100, input_dim=X_train.shape[1], activation='relu'))\n",
        "model_overfit.add(tf.keras.layers.Dense(100, activation='relu'))\n",
        "model_overfit.add(tf.keras.layers.Dense(100, activation='relu'))\n",
        "model_overfit.add(tf.keras.layers.Dense(1, activation='sigmoid'))\n",
        "\n",
        "# compile the model\n",
        "model_overfit.compile(\n",
        "    loss = \"binary_crossentropy\",\n",
        "    optimizer = \"adam\",\n",
        "    metrics = ['accuracy']\n",
        ")\n",
        "\n",
        "# fit the model\n",
        "overfit_history = model_overfit.fit(\n",
        "    x = X_train,\n",
        "    y = y_train,\n",
        "    epochs = 1500,\n",
        "    batch_size = 128,\n",
        "    validation_split = 0.3,\n",
        "    verbose = 0\n",
        ")\n"
      ],
      "metadata": {
        "id": "EBXrz1e0p89C"
      },
      "execution_count": 5,
      "outputs": []
    },
    {
      "cell_type": "code",
      "source": [
        "# plot the training accuracy and validation accuracy\n",
        "fig = plt.figure(figsize = (10,3))\n",
        "ax = fig.gca()\n",
        "ax.plot(overfit_history.history['accuracy'], color='#EFAEA4',label = 'Training Accuracy')\n",
        "ax.plot(overfit_history.history['val_accuracy'], color='#B2D7D0',label = 'Validation Accuracy')\n",
        "ax.legend()\n",
        "ax.set_xlabel('Epochs', fontsize=AXIS_LABEL_SIZE)\n",
        "ax.set_ylabel('Accuracy %', fontsize=AXIS_LABEL_SIZE)\n",
        "ax.set_title('Training Accuracy and Validation Accuracy for FCN Model', fontsize = 14)\n",
        "fig.show()\n"
      ],
      "metadata": {
        "colab": {
          "base_uri": "https://localhost:8080/",
          "height": 338
        },
        "id": "vCjvqqcIqBIR",
        "outputId": "488e4902-c840-4062-bc4f-30678745d502"
      },
      "execution_count": 6,
      "outputs": [
        {
          "output_type": "display_data",
          "data": {
            "text/plain": [
              "<Figure size 1000x300 with 1 Axes>"
            ],
            "image/png": "[encoded data removed]"
          },
          "metadata": {}
        }
      ]
    },
    {
      "cell_type": "markdown",
      "source": [
        "**INTERPRETATION:**"
      ],
      "metadata": {
        "id": "DKByWojmqHdb"
      }
    },
    {
      "cell_type": "markdown",
      "source": [
        "Overfitting happens when the model perfectly, or almost perfectly, fits the training data, so it is not generalized enough. The accuracy on the test data will therefore be significantly lower than the accuracy on the training data.\n",
        "\n",
        "In conclusion, we can tell that a modle overfits when the accuracy for training data is a lot higher than accuracy for test data."
      ],
      "metadata": {
        "id": "vQ4gybKcqKw0"
      }
    },
    {
      "cell_type": "markdown",
      "source": [
        "<div class='exercise-r'>\n",
        "\n",
        "**3.** \n",
        "\n",
        "**3.1**\n",
        "    \n",
        "</div>"
      ],
      "metadata": {
        "id": "7sjskalcqNjM"
      }
    },
    {
      "cell_type": "code",
      "source": [
        "# func 1: flip the image\n",
        "def flip(img_values):\n",
        "    '''\n",
        "     :function  flip an image along x axis\n",
        "     :input     image is a 785*1 array\n",
        "     :output    fliped image (a 785*1 array)\n",
        "    '''\n",
        "    image = img_values[0:-1].reshape((28,28))\n",
        "    label = img_values[-1]\n",
        "    image_flip = np.zeros((28,28))\n",
        "\n",
        "    for i in range(0, 28):\n",
        "        image_flip[i] = image[i][::-1]\n",
        "\n",
        "    return np.append(image_flip.reshape((-1,)), label)\n",
        "\n",
        "# func 2: rotate the image by 90/180/270 degree\n",
        "def rotate(img_values, degree=90):\n",
        "    '''\n",
        "     :function  rotate an image by given degree\n",
        "     :input     image is a 785*1 array, degree should be 90/180/270\n",
        "     :output    rotated image (a 785*1 array)\n",
        "    '''\n",
        "    image = img_values[0:-1].reshape((28,28))\n",
        "    label = img_values[-1]\n",
        "    image_rotate = np.zeros((28,28))\n",
        "\n",
        "    if degree == 90:\n",
        "        for i in range(0,28):\n",
        "            image_rotate[i] = image[:,27-i]\n",
        "    elif degree == 180:\n",
        "        image_rotate = image[::-1,::-1]\n",
        "    else:\n",
        "        for i in range(0,28):\n",
        "            image_rotate[i] = image[::-1,i]\n",
        "\n",
        "    return np.append(image_rotate.reshape((-1,)), label)\n",
        "\n",
        "# func 3: move the image along x-axis and y-axis\n",
        "def move(img_values, _x=3, _y=3):\n",
        "    '''\n",
        "     :function  move an image by (_x,_y)\n",
        "     :input     image is a 785*1 array, abs(_x) and abs(_y) should be in (1,5]\n",
        "     :output    moved image (a 785*1 array)\n",
        "    '''\n",
        "    img_values = df_train.iloc[300].values\n",
        "    image = img_values[0:-1].reshape((28,28))\n",
        "    label = img_values[-1]\n",
        "    image_moved_x = np.zeros((28,28))\n",
        "    image_moved = np.zeros((28,28))\n",
        "\n",
        "    m_x = int((_x)/(abs(_x)) * min(abs(_x),5))\n",
        "    m_y = int((_y)/(abs(_y)) * min(abs(_y),5))\n",
        "\n",
        "    for i in range(0,28):\n",
        "        image_moved_x[i] = np.append(image,image,axis=0)[i-m_x]\n",
        "\n",
        "    for j in range(0,28):\n",
        "        image_moved[:,j] = np.append(image_moved_x,image_moved_x,axis=1)[:,j-m_y]\n",
        "\n",
        "    return np.append(image_moved.reshape((-1,)), label)\n",
        "\n",
        "# func 4: randomly cover up some part of the image (5*5)\n",
        "def cover_rand(img_values):\n",
        "    '''\n",
        "     :function  move an image by (_x,_y)\n",
        "     :input     image is a 785*1 array, abs(_x) and abs(_y) should be in (1,5]\n",
        "     :output    moved image (a 785*1 array)\n",
        "    '''\n",
        "    img_values = df_train.iloc[300].values\n",
        "    image = img_values[0:-1].reshape((28,28))\n",
        "    label = img_values[-1]\n",
        "    \n",
        "    image_cover = image\n",
        "    bx = np.random.randint(23)\n",
        "    by = np.random.randint(23)\n",
        "    image_cover[bx:bx+5,by:by+5] = np.ones((5,5))*image.min()\n",
        "\n",
        "    return np.append(image_cover.reshape((-1,)), label)\n",
        "\n",
        "# test: test filp and rotate and move function\n",
        "def test_flip_rotate_move(img_values):\n",
        "    images = [img_values, flip(img_values)]\n",
        "    str_img = ['origin','fliped']\n",
        "\n",
        "    fig, ax = plt.subplots(3,4)\n",
        "    for i in range(0,2):\n",
        "        ax[i][0].imshow(images[i][0:-1].reshape((28,28)), cmap='gray')\n",
        "        ax[i][0].set_title(str_img[i])\n",
        "\n",
        "        ax[i][1].imshow(rotate(images[i],90)[0:-1].reshape((28,28)), cmap='gray')\n",
        "        ax[i][1].set_title(f'{str_img[i]} 90')\n",
        "\n",
        "        ax[i][2].imshow(rotate(images[i],180)[0:-1].reshape((28,28)), cmap='gray')\n",
        "        ax[i][2].set_title(f'{str_img[i]} 180')\n",
        "\n",
        "        ax[i][3].imshow(rotate(images[i],270)[0:-1].reshape((28,28)), cmap='gray')\n",
        "        ax[i][3].set_title(f'{str_img[i]} 270')\n",
        "    \n",
        "    ax[2][0].imshow(move(img_values,3,3)[0:-1].reshape((28,28)), cmap='gray')\n",
        "    ax[2][0].set_title('move (3,3)')\n",
        "\n",
        "    ax[2][1].imshow(move(img_values,-3,-3)[0:-1].reshape((28,28)), cmap='gray')\n",
        "    ax[2][1].set_title('move (-3,-3)')\n",
        "\n",
        "    ax[2][2].imshow(move(img_values,-3,3)[0:-1].reshape((28,28)), cmap='gray')\n",
        "    ax[2][2].set_title('move (-3,3)')\n",
        "\n",
        "    ax[2][3].imshow(move(img_values,3,-3)[0:-1].reshape((28,28)), cmap='gray')\n",
        "    ax[2][3].set_title('move (3,-3)')\n",
        "\n",
        "    fig.tight_layout()\n",
        "    fig.subplots_adjust(wspace=0.4)\n",
        "    fig.show()\n",
        "\n",
        "# test_flip_rotate_move(df_train.iloc[300].values)\n"
      ],
      "metadata": {
        "id": "8cADc3cFqRcq"
      },
      "execution_count": 7,
      "outputs": []
    },
    {
      "cell_type": "code",
      "source": [
        "#############################################################\n",
        "# APPROACH 1: data augmentation\n",
        "EXPAND_NUM = 300\n",
        "train_expanded = []\n",
        "\n",
        "# expand 0 image\n",
        "expand_indexs_0 = np.random.choice(np.where(df_train['output']==0)[0], EXPAND_NUM//2, replace=False)\n",
        "for i in expand_indexs_0:\n",
        "    v = df_train.iloc[i].values\n",
        "    fv = flip(v)\n",
        "    rv = rotate(v,180)\n",
        "    train_expanded.extend([fv, rv])         # flip, rotate\n",
        "    train_expanded.extend([rotate(fv,180)]) # flip + rotate\n",
        "    # train_expanded.extend([cover_rand(v)])  # cover\n",
        "    train_expanded.extend([move(v,_x,_y) for _x,_y in zip([2,-2,2,-2],[2,-2,-2,2])])    # move*4\n",
        "    train_expanded.extend([move(fv,_x,_y) for _x,_y in zip([2,-2,2,-2],[2,-2,-2,2])])   # flip + move*4\n",
        "\n",
        "# expand 1 image\n",
        "expand_indexs_1 = np.random.choice(np.where(df_train['output']==1)[0], EXPAND_NUM//2, replace=False)\n",
        "for i in expand_indexs_1:\n",
        "    v = df_train.iloc[i].values\n",
        "    fv = flip(v)\n",
        "    train_expanded.extend([fv])             # flip\n",
        "    # train_expanded.extend([cover_rand(v)])  # cover\n",
        "    train_expanded.extend([move(v,_x,_y) for _x,_y in zip([2,-2,2,-2],[2,-2,-2,2])])    # move*4\n",
        "    train_expanded.extend([move(fv,_x,_y) for _x,_y in zip([2,-2,2,-2],[2,-2,-2,2])])   # flip + move*4\n",
        "\n",
        "# get augmented training dataframe, and remember to shuffle the data\n",
        "df_train_expanded = pd.DataFrame(np.array(train_expanded), columns=df_train.columns)\n",
        "df_train_new = pd.concat([df_train, df_train_expanded], axis=0)\n",
        "df_train_new = df_train_new.sample(frac=1.0,replace=False)\n",
        "\n",
        "# get new training predictors and response\n",
        "X_train_new = df_train_new.drop(columns=['output'], axis=1)\n",
        "y_train_new = df_train_new[['output']]\n",
        "\n",
        "# normalize training data\n",
        "scaler = StandardScaler()\n",
        "std_array = scaler.fit_transform(X_train_new)      # this method returns an array\n",
        "X_train_new = pd.DataFrame(std_array, columns=X_train_new.columns)\n",
        "\n",
        "\n",
        "#############################################################\n",
        "# APPROACH 2: number of epochs (max 2000), batch size, optimizer\n",
        "EPOCHS_NEW      = 1500\n",
        "BATCH_SIZE_NEW  = 128\n",
        "optimizer_new   = tf.keras.optimizers.Adamax(\n",
        "    learning_rate = 0.001,  # learning rate\n",
        "    beta_1 = 0.9,       # related to momentum\n",
        "    beta_2 = 0.999,     # related to RMSProp\n",
        ")\n",
        "\n",
        "\n",
        "#############################################################\n",
        "# APPROACH 3: regularization\n",
        "my_model = tf.keras.Sequential()\n",
        "my_model.add(tf.keras.layers.Dense(100, input_dim = X_train.shape[1], kernel_regularizer=tf.keras.regularizers.l1(0.01)))\n",
        "my_model.add(tf.keras.layers.BatchNormalization())\n",
        "my_model.add(tf.keras.layers.Activation(activation='relu'))\n",
        "my_model.add(tf.keras.layers.Dropout(0.5))\n",
        "my_model.add(tf.keras.layers.Dense(100, kernel_regularizer=tf.keras.regularizers.l1(0.01)))\n",
        "my_model.add(tf.keras.layers.BatchNormalization())\n",
        "my_model.add(tf.keras.layers.Activation(activation='relu'))\n",
        "my_model.add(tf.keras.layers.Dropout(0.5))\n",
        "my_model.add(tf.keras.layers.Dense(100, kernel_regularizer=tf.keras.regularizers.l2(0.02)))\n",
        "my_model.add(tf.keras.layers.BatchNormalization())\n",
        "my_model.add(tf.keras.layers.Activation(activation='relu'))\n",
        "my_model.add(tf.keras.layers.Dropout(0.5))\n",
        "my_model.add(tf.keras.layers.Dense(1, kernel_regularizer=tf.keras.regularizers.l2(0.04), activation='sigmoid'))\n",
        "\n",
        "# compile the model\n",
        "my_model.compile(\n",
        "    loss = \"binary_crossentropy\",\n",
        "    optimizer = optimizer_new,\n",
        "    metrics = ['accuracy']\n",
        ")\n",
        "\n",
        "# earlystopping callback\n",
        "earlystop = tf.keras.callbacks.EarlyStopping(\n",
        "    monitor = 'val_accuracy',\n",
        "    patience = 50,\n",
        "    restore_best_weights = True\n",
        ")\n",
        "\n",
        "# display model summary\n",
        "print(my_model.summary())\n"
      ],
      "metadata": {
        "colab": {
          "base_uri": "https://localhost:8080/"
        },
        "id": "Oba2CXmAqYdo",
        "outputId": "443ee7d1-bbdb-41a4-e675-6efd6ede14cd"
      },
      "execution_count": 8,
      "outputs": [
        {
          "output_type": "stream",
          "name": "stdout",
          "text": [
            "Model: \"sequential_1\"\n",
            "_________________________________________________________________\n",
            " Layer (type)                Output Shape              Param #   \n",
            "=================================================================\n",
            " dense_4 (Dense)             (None, 100)               78500     \n",
            "                                                                 \n",
            " batch_normalization (BatchN  (None, 100)              400       \n",
            " ormalization)                                                   \n",
            "                                                                 \n",
            " activation (Activation)     (None, 100)               0         \n",
            "                                                                 \n",
            " dropout (Dropout)           (None, 100)               0         \n",
            "                                                                 \n",
            " dense_5 (Dense)             (None, 100)               10100     \n",
            "                                                                 \n",
            " batch_normalization_1 (Batc  (None, 100)              400       \n",
            " hNormalization)                                                 \n",
            "                                                                 \n",
            " activation_1 (Activation)   (None, 100)               0         \n",
            "                                                                 \n",
            " dropout_1 (Dropout)         (None, 100)               0         \n",
            "                                                                 \n",
            " dense_6 (Dense)             (None, 100)               10100     \n",
            "                                                                 \n",
            " batch_normalization_2 (Batc  (None, 100)              400       \n",
            " hNormalization)                                                 \n",
            "                                                                 \n",
            " activation_2 (Activation)   (None, 100)               0         \n",
            "                                                                 \n",
            " dropout_2 (Dropout)         (None, 100)               0         \n",
            "                                                                 \n",
            " dense_7 (Dense)             (None, 1)                 101       \n",
            "                                                                 \n",
            "=================================================================\n",
            "Total params: 100,001\n",
            "Trainable params: 99,401\n",
            "Non-trainable params: 600\n",
            "_________________________________________________________________\n",
            "None\n"
          ]
        }
      ]
    },
    {
      "cell_type": "code",
      "source": [
        "# fit the model\n",
        "new_history = my_model.fit(\n",
        "    x = X_train_new,\n",
        "    y = y_train_new,\n",
        "    epochs = EPOCHS_NEW,\n",
        "    batch_size = BATCH_SIZE_NEW,\n",
        "    validation_split = 0.3,\n",
        "    callbacks=[earlystop],\n",
        "    verbose = 0\n",
        ")\n",
        "\n",
        "# print out training and validation accuracy and loss\n",
        "print('New model training   loss:', new_history.history['loss'][-1])\n",
        "print('New model validation loss:',new_history.history['val_loss'][-1])\n",
        "print('New model training   accuracy:',new_history.history['accuracy'][-1])\n",
        "print('New model validation accuracy:',new_history.history['val_accuracy'][-1])\n"
      ],
      "metadata": {
        "colab": {
          "base_uri": "https://localhost:8080/"
        },
        "id": "WyQZ-mFyqdNH",
        "outputId": "b185bf06-d4c0-4aeb-9951-3206c824c138"
      },
      "execution_count": 9,
      "outputs": [
        {
          "output_type": "stream",
          "name": "stdout",
          "text": [
            "New model training   loss: 0.31420230865478516\n",
            "New model validation loss: 0.32150521874427795\n",
            "New model training   accuracy: 0.9853741526603699\n",
            "New model validation accuracy: 0.9849206209182739\n"
          ]
        }
      ]
    },
    {
      "cell_type": "markdown",
      "source": [
        "<div class='exercise-r'>\n",
        "\n",
        "**3.2**\n",
        "    \n",
        "</div>"
      ],
      "metadata": {
        "id": "5IB4BQKQqgD5"
      }
    },
    {
      "cell_type": "code",
      "source": [
        "# print the difference between the training and validation losses\n",
        "print('The difference between training and validation losses:', new_history.history['loss'][-1]-new_history.history['val_loss'][-1])\n",
        "\n",
        "# print the difference between the training and validation accuracies\n",
        "print('The difference between training and validation accuracies:', new_history.history['accuracy'][-1]-new_history.history['val_accuracy'][-1])\n"
      ],
      "metadata": {
        "colab": {
          "base_uri": "https://localhost:8080/"
        },
        "id": "Yp9Uk7njqhaB",
        "outputId": "44ad67cf-74b5-46a9-b44e-f1c7c8d1c6de"
      },
      "execution_count": 10,
      "outputs": [
        {
          "output_type": "stream",
          "name": "stdout",
          "text": [
            "The difference between training and validation losses: -0.007302910089492798\n",
            "The difference between training and validation accuracies: 0.00045353174209594727\n"
          ]
        }
      ]
    },
    {
      "cell_type": "markdown",
      "source": [
        "<div class='exercise-r'>\n",
        "\n",
        "**3.3**\n",
        "    \n",
        "</div>"
      ],
      "metadata": {
        "id": "2til_rAFqmPK"
      }
    },
    {
      "cell_type": "code",
      "source": [
        "# plot the training accuracy and validation accuracy\n",
        "fig = plt.figure(figsize = (10,3))\n",
        "ax = fig.gca()\n",
        "ax.plot(new_history.history['accuracy'], color='#EFAEA4',label = 'Training Accuracy')\n",
        "ax.plot(new_history.history['val_accuracy'], color='#B2D7D0',label = 'Validation Accuracy')\n",
        "ax.legend()\n",
        "ax.set_xlabel('Epochs', fontsize=AXIS_LABEL_SIZE)\n",
        "ax.set_ylabel('Accuracy %', fontsize=AXIS_LABEL_SIZE)\n",
        "ax.set_title('Training Accuracy and Validation Accuracy for New Model', fontsize = 14)\n",
        "fig.show()\n"
      ],
      "metadata": {
        "colab": {
          "base_uri": "https://localhost:8080/",
          "height": 338
        },
        "id": "XNesM4UnqrvQ",
        "outputId": "6fa83785-5431-4e40-d210-41ae03effdec"
      },
      "execution_count": 11,
      "outputs": [
        {
          "output_type": "display_data",
          "data": {
            "text/plain": [
              "<Figure size 1000x300 with 1 Axes>"
            ],
            "image/png": "[encoded data removed]"
          },
          "metadata": {}
        }
      ]
    },
    {
      "cell_type": "markdown",
      "source": [
        "<div class='exercise-r'>\n",
        "\n",
        "**3.4**\n",
        "    \n",
        "</div>"
      ],
      "metadata": {
        "id": "gg2M78rOqvK5"
      }
    },
    {
      "cell_type": "code",
      "source": [
        "# get test data\n",
        "df_test  = pd.read_csv('kmnist_test.csv')\n",
        "X_test = df_test.drop(columns=['output'],axis=1)\n",
        "y_test = df_test[['output']]\n",
        "\n",
        "# normalize test data using the same scaler\n",
        "std_array = scaler.transform(X_test)      # this method returns an array\n",
        "X_test = pd.DataFrame(std_array, columns=X_test.columns)\n",
        "\n",
        "# evaluate model on the test dataset\n",
        "loss_test, aucc_test = my_model.evaluate(X_test, y_test, verbose=0)\n",
        "\n",
        "# print test accuracy\n",
        "print(f'New model test accuracy: {aucc_test:.5f}')\n"
      ],
      "metadata": {
        "colab": {
          "base_uri": "https://localhost:8080/"
        },
        "id": "KFp3asprqyKK",
        "outputId": "37f98ed9-090d-4e5d-bf79-9511ef759e68"
      },
      "execution_count": 12,
      "outputs": [
        {
          "output_type": "stream",
          "name": "stdout",
          "text": [
            "New model test accuracy: 0.92650\n"
          ]
        }
      ]
    }
  ]
}